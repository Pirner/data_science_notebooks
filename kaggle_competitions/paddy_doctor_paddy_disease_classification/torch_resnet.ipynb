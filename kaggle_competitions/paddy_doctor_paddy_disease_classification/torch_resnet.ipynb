{
 "cells": [
  {
   "cell_type": "markdown",
   "metadata": {},
   "source": [
    "### Learn some PyTorch approaches and play with the competition"
   ]
  },
  {
   "cell_type": "code",
   "execution_count": 10,
   "metadata": {},
   "outputs": [],
   "source": [
    "import pandas as pd\n",
    "import matplotlib.pyplot as plt\n",
    "\n",
    "import numpy as np"
   ]
  },
  {
   "cell_type": "markdown",
   "metadata": {},
   "source": [
    "#### Create Data generators"
   ]
  },
  {
   "cell_type": "code",
   "execution_count": 7,
   "metadata": {},
   "outputs": [
    {
     "data": {
      "text/html": [
       "<div>\n",
       "<style scoped>\n",
       "    .dataframe tbody tr th:only-of-type {\n",
       "        vertical-align: middle;\n",
       "    }\n",
       "\n",
       "    .dataframe tbody tr th {\n",
       "        vertical-align: top;\n",
       "    }\n",
       "\n",
       "    .dataframe thead th {\n",
       "        text-align: right;\n",
       "    }\n",
       "</style>\n",
       "<table border=\"1\" class=\"dataframe\">\n",
       "  <thead>\n",
       "    <tr style=\"text-align: right;\">\n",
       "      <th></th>\n",
       "      <th>image_id</th>\n",
       "      <th>label</th>\n",
       "      <th>variety</th>\n",
       "      <th>age</th>\n",
       "    </tr>\n",
       "  </thead>\n",
       "  <tbody>\n",
       "    <tr>\n",
       "      <th>5250</th>\n",
       "      <td>108675.jpg</td>\n",
       "      <td>dead_heart</td>\n",
       "      <td>Onthanel</td>\n",
       "      <td>70</td>\n",
       "    </tr>\n",
       "    <tr>\n",
       "      <th>5731</th>\n",
       "      <td>100596.jpg</td>\n",
       "      <td>downy_mildew</td>\n",
       "      <td>KarnatakaPonni</td>\n",
       "      <td>50</td>\n",
       "    </tr>\n",
       "    <tr>\n",
       "      <th>7555</th>\n",
       "      <td>100007.jpg</td>\n",
       "      <td>normal</td>\n",
       "      <td>ADT45</td>\n",
       "      <td>50</td>\n",
       "    </tr>\n",
       "    <tr>\n",
       "      <th>5000</th>\n",
       "      <td>107298.jpg</td>\n",
       "      <td>dead_heart</td>\n",
       "      <td>IR20</td>\n",
       "      <td>70</td>\n",
       "    </tr>\n",
       "    <tr>\n",
       "      <th>1572</th>\n",
       "      <td>100280.jpg</td>\n",
       "      <td>blast</td>\n",
       "      <td>ADT45</td>\n",
       "      <td>70</td>\n",
       "    </tr>\n",
       "    <tr>\n",
       "      <th>6509</th>\n",
       "      <td>107852.jpg</td>\n",
       "      <td>hispa</td>\n",
       "      <td>ADT45</td>\n",
       "      <td>68</td>\n",
       "    </tr>\n",
       "    <tr>\n",
       "      <th>5910</th>\n",
       "      <td>108689.jpg</td>\n",
       "      <td>downy_mildew</td>\n",
       "      <td>Surya</td>\n",
       "      <td>45</td>\n",
       "    </tr>\n",
       "  </tbody>\n",
       "</table>\n",
       "</div>"
      ],
      "text/plain": [
       "        image_id         label         variety  age\n",
       "5250  108675.jpg    dead_heart        Onthanel   70\n",
       "5731  100596.jpg  downy_mildew  KarnatakaPonni   50\n",
       "7555  100007.jpg        normal           ADT45   50\n",
       "5000  107298.jpg    dead_heart            IR20   70\n",
       "1572  100280.jpg         blast           ADT45   70\n",
       "6509  107852.jpg         hispa           ADT45   68\n",
       "5910  108689.jpg  downy_mildew           Surya   45"
      ]
     },
     "execution_count": 7,
     "metadata": {},
     "output_type": "execute_result"
    }
   ],
   "source": [
    "df = pd.read_csv(r'C:\\data\\paddy_doctor_competition\\train.csv')\n",
    "\n",
    "df.sample(7)"
   ]
  },
  {
   "cell_type": "code",
   "execution_count": 13,
   "metadata": {},
   "outputs": [
    {
     "data": {
      "text/html": [
       "<div>\n",
       "<style scoped>\n",
       "    .dataframe tbody tr th:only-of-type {\n",
       "        vertical-align: middle;\n",
       "    }\n",
       "\n",
       "    .dataframe tbody tr th {\n",
       "        vertical-align: top;\n",
       "    }\n",
       "\n",
       "    .dataframe thead th {\n",
       "        text-align: right;\n",
       "    }\n",
       "</style>\n",
       "<table border=\"1\" class=\"dataframe\">\n",
       "  <thead>\n",
       "    <tr style=\"text-align: right;\">\n",
       "      <th></th>\n",
       "      <th>image_id</th>\n",
       "      <th>label</th>\n",
       "      <th>variety</th>\n",
       "      <th>age</th>\n",
       "      <th>path_jpeg</th>\n",
       "    </tr>\n",
       "  </thead>\n",
       "  <tbody>\n",
       "    <tr>\n",
       "      <th>10290</th>\n",
       "      <td>108933.jpg</td>\n",
       "      <td>tungro</td>\n",
       "      <td>ADT45</td>\n",
       "      <td>72</td>\n",
       "      <td>C:/data/paddy_doctor_competition/tungro/108933...</td>\n",
       "    </tr>\n",
       "    <tr>\n",
       "      <th>4967</th>\n",
       "      <td>102569.jpg</td>\n",
       "      <td>dead_heart</td>\n",
       "      <td>IR20</td>\n",
       "      <td>70</td>\n",
       "      <td>C:/data/paddy_doctor_competition/dead_heart/10...</td>\n",
       "    </tr>\n",
       "    <tr>\n",
       "      <th>1960</th>\n",
       "      <td>109854.jpg</td>\n",
       "      <td>blast</td>\n",
       "      <td>ADT45</td>\n",
       "      <td>70</td>\n",
       "      <td>C:/data/paddy_doctor_competition/blast/109854.jpg</td>\n",
       "    </tr>\n",
       "    <tr>\n",
       "      <th>10354</th>\n",
       "      <td>104674.jpg</td>\n",
       "      <td>tungro</td>\n",
       "      <td>Onthanel</td>\n",
       "      <td>70</td>\n",
       "      <td>C:/data/paddy_doctor_competition/tungro/104674...</td>\n",
       "    </tr>\n",
       "    <tr>\n",
       "      <th>9992</th>\n",
       "      <td>104565.jpg</td>\n",
       "      <td>tungro</td>\n",
       "      <td>ADT45</td>\n",
       "      <td>70</td>\n",
       "      <td>C:/data/paddy_doctor_competition/tungro/104565...</td>\n",
       "    </tr>\n",
       "    <tr>\n",
       "      <th>314</th>\n",
       "      <td>103923.jpg</td>\n",
       "      <td>bacterial_leaf_blight</td>\n",
       "      <td>ADT45</td>\n",
       "      <td>72</td>\n",
       "      <td>C:/data/paddy_doctor_competition/bacterial_lea...</td>\n",
       "    </tr>\n",
       "    <tr>\n",
       "      <th>9634</th>\n",
       "      <td>106650.jpg</td>\n",
       "      <td>tungro</td>\n",
       "      <td>ADT45</td>\n",
       "      <td>60</td>\n",
       "      <td>C:/data/paddy_doctor_competition/tungro/106650...</td>\n",
       "    </tr>\n",
       "  </tbody>\n",
       "</table>\n",
       "</div>"
      ],
      "text/plain": [
       "         image_id                  label   variety  age  \\\n",
       "10290  108933.jpg                 tungro     ADT45   72   \n",
       "4967   102569.jpg             dead_heart      IR20   70   \n",
       "1960   109854.jpg                  blast     ADT45   70   \n",
       "10354  104674.jpg                 tungro  Onthanel   70   \n",
       "9992   104565.jpg                 tungro     ADT45   70   \n",
       "314    103923.jpg  bacterial_leaf_blight     ADT45   72   \n",
       "9634   106650.jpg                 tungro     ADT45   60   \n",
       "\n",
       "                                               path_jpeg  \n",
       "10290  C:/data/paddy_doctor_competition/tungro/108933...  \n",
       "4967   C:/data/paddy_doctor_competition/dead_heart/10...  \n",
       "1960   C:/data/paddy_doctor_competition/blast/109854.jpg  \n",
       "10354  C:/data/paddy_doctor_competition/tungro/104674...  \n",
       "9992   C:/data/paddy_doctor_competition/tungro/104565...  \n",
       "314    C:/data/paddy_doctor_competition/bacterial_lea...  \n",
       "9634   C:/data/paddy_doctor_competition/tungro/106650...  "
      ]
     },
     "execution_count": 13,
     "metadata": {},
     "output_type": "execute_result"
    }
   ],
   "source": [
    "train_dir = 'C:/data/paddy_doctor_competition/train_images/'\n",
    "df['path_jpeg'] = df.apply(lambda row: train_dir + row['label'] + '/' + row['image_id'], axis=1)\n",
    "df.sample(7)"
   ]
  },
  {
   "cell_type": "code",
   "execution_count": 14,
   "metadata": {},
   "outputs": [
    {
     "ename": "FileNotFoundError",
     "evalue": "[Errno 2] No such file or directory: 'C:/data/paddy_doctor_competition/brown_spot/100864.jpg'",
     "output_type": "error",
     "traceback": [
      "\u001b[1;31m---------------------------------------------------------------------------\u001b[0m",
      "\u001b[1;31mFileNotFoundError\u001b[0m                         Traceback (most recent call last)",
      "\u001b[1;32mc:\\dev\\repos\\data_science_notebooks\\kaggle_competitions\\paddy_doctor_paddy_disease_classification\\torch_resnet.ipynb Cell 6\u001b[0m in \u001b[0;36m<cell line: 5>\u001b[1;34m()\u001b[0m\n\u001b[0;32m      <a href='vscode-notebook-cell:/c%3A/dev/repos/data_science_notebooks/kaggle_competitions/paddy_doctor_paddy_disease_classification/torch_resnet.ipynb#W5sZmlsZQ%3D%3D?line=4'>5</a>\u001b[0m \u001b[39mfor\u001b[39;00m ax \u001b[39min\u001b[39;00m axes\u001b[39m.\u001b[39mflat:\n\u001b[0;32m      <a href='vscode-notebook-cell:/c%3A/dev/repos/data_science_notebooks/kaggle_competitions/paddy_doctor_paddy_disease_classification/torch_resnet.ipynb#W5sZmlsZQ%3D%3D?line=5'>6</a>\u001b[0m     i \u001b[39m=\u001b[39m np\u001b[39m.\u001b[39mrandom\u001b[39m.\u001b[39mrandint(df\u001b[39m.\u001b[39mshape[\u001b[39m0\u001b[39m])\n\u001b[1;32m----> <a href='vscode-notebook-cell:/c%3A/dev/repos/data_science_notebooks/kaggle_competitions/paddy_doctor_paddy_disease_classification/torch_resnet.ipynb#W5sZmlsZQ%3D%3D?line=6'>7</a>\u001b[0m     ax\u001b[39m.\u001b[39mimshow(plt\u001b[39m.\u001b[39;49mimread(df[\u001b[39m'\u001b[39;49m\u001b[39mpath_jpeg\u001b[39;49m\u001b[39m'\u001b[39;49m][i]))\n\u001b[0;32m      <a href='vscode-notebook-cell:/c%3A/dev/repos/data_science_notebooks/kaggle_competitions/paddy_doctor_paddy_disease_classification/torch_resnet.ipynb#W5sZmlsZQ%3D%3D?line=7'>8</a>\u001b[0m     ax\u001b[39m.\u001b[39mset_title(df[\u001b[39m'\u001b[39m\u001b[39mlabel\u001b[39m\u001b[39m'\u001b[39m][i],fontsize\u001b[39m=\u001b[39m\u001b[39m16\u001b[39m)\n\u001b[0;32m     <a href='vscode-notebook-cell:/c%3A/dev/repos/data_science_notebooks/kaggle_competitions/paddy_doctor_paddy_disease_classification/torch_resnet.ipynb#W5sZmlsZQ%3D%3D?line=9'>10</a>\u001b[0m plt\u001b[39m.\u001b[39mshow()\n",
      "File \u001b[1;32mc:\\Users\\steph\\anaconda3\\envs\\ds_playground\\lib\\site-packages\\matplotlib\\pyplot.py:2160\u001b[0m, in \u001b[0;36mimread\u001b[1;34m(fname, format)\u001b[0m\n\u001b[0;32m   2158\u001b[0m \u001b[39m@_copy_docstring_and_deprecators\u001b[39m(matplotlib\u001b[39m.\u001b[39mimage\u001b[39m.\u001b[39mimread)\n\u001b[0;32m   2159\u001b[0m \u001b[39mdef\u001b[39;00m \u001b[39mimread\u001b[39m(fname, \u001b[39mformat\u001b[39m\u001b[39m=\u001b[39m\u001b[39mNone\u001b[39;00m):\n\u001b[1;32m-> 2160\u001b[0m     \u001b[39mreturn\u001b[39;00m matplotlib\u001b[39m.\u001b[39;49mimage\u001b[39m.\u001b[39;49mimread(fname, \u001b[39mformat\u001b[39;49m)\n",
      "File \u001b[1;32mc:\\Users\\steph\\anaconda3\\envs\\ds_playground\\lib\\site-packages\\matplotlib\\image.py:1560\u001b[0m, in \u001b[0;36mimread\u001b[1;34m(fname, format)\u001b[0m\n\u001b[0;32m   1558\u001b[0m                 response \u001b[39m=\u001b[39m io\u001b[39m.\u001b[39mBytesIO(response\u001b[39m.\u001b[39mread())\n\u001b[0;32m   1559\u001b[0m             \u001b[39mreturn\u001b[39;00m imread(response, \u001b[39mformat\u001b[39m\u001b[39m=\u001b[39mext)\n\u001b[1;32m-> 1560\u001b[0m \u001b[39mwith\u001b[39;00m img_open(fname) \u001b[39mas\u001b[39;00m image:\n\u001b[0;32m   1561\u001b[0m     \u001b[39mreturn\u001b[39;00m (_pil_png_to_float_array(image)\n\u001b[0;32m   1562\u001b[0m             \u001b[39mif\u001b[39;00m \u001b[39misinstance\u001b[39m(image, PIL\u001b[39m.\u001b[39mPngImagePlugin\u001b[39m.\u001b[39mPngImageFile) \u001b[39melse\u001b[39;00m\n\u001b[0;32m   1563\u001b[0m             pil_to_array(image))\n",
      "File \u001b[1;32mc:\\Users\\steph\\anaconda3\\envs\\ds_playground\\lib\\site-packages\\PIL\\Image.py:3092\u001b[0m, in \u001b[0;36mopen\u001b[1;34m(fp, mode, formats)\u001b[0m\n\u001b[0;32m   3089\u001b[0m     filename \u001b[39m=\u001b[39m fp\n\u001b[0;32m   3091\u001b[0m \u001b[39mif\u001b[39;00m filename:\n\u001b[1;32m-> 3092\u001b[0m     fp \u001b[39m=\u001b[39m builtins\u001b[39m.\u001b[39;49mopen(filename, \u001b[39m\"\u001b[39;49m\u001b[39mrb\u001b[39;49m\u001b[39m\"\u001b[39;49m)\n\u001b[0;32m   3093\u001b[0m     exclusive_fp \u001b[39m=\u001b[39m \u001b[39mTrue\u001b[39;00m\n\u001b[0;32m   3095\u001b[0m \u001b[39mtry\u001b[39;00m:\n",
      "\u001b[1;31mFileNotFoundError\u001b[0m: [Errno 2] No such file or directory: 'C:/data/paddy_doctor_competition/brown_spot/100864.jpg'"
     ]
    },
    {
     "data": {
      "image/png": "[encoded data removed]",
      "text/plain": [
       "<Figure size 1296x1080 with 12 Axes>"
      ]
     },
     "metadata": {},
     "output_type": "display_data"
    }
   ],
   "source": [
    "plt.rcParams[\"font.family\"] = 'serif'\n",
    "fig, axes = plt.subplots(nrows=3, ncols=4, figsize=(18, 15),\n",
    "                        subplot_kw={'xticks': [], 'yticks': []})\n",
    "\n",
    "for ax in axes.flat:\n",
    "    i = np.random.randint(df.shape[0])\n",
    "    ax.imshow(plt.imread(df['path_jpeg'][i]))\n",
    "    ax.set_title(df['label'][i],fontsize=16)\n",
    "\n",
    "plt.show()"
   ]
  },
  {
   "cell_type": "code",
   "execution_count": null,
   "metadata": {},
   "outputs": [],
   "source": []
  }
 ],
 "metadata": {
  "kernelspec": {
   "display_name": "Python 3.9.12 ('ds_playground')",
   "language": "python",
   "name": "python3"
  },
  "language_info": {
   "codemirror_mode": {
    "name": "ipython",
    "version": 3
   },
   "file_extension": ".py",
   "mimetype": "text/x-python",
   "name": "python",
   "nbconvert_exporter": "python",
   "pygments_lexer": "ipython3",
   "version": "3.9.12"
  },
  "orig_nbformat": 4,
  "vscode": {
   "interpreter": {
    "hash": "d845f5b0be500222e5d53fada065b2015f5ea82069a76c414233f9d151c63ec6"
   }
  }
 },
 "nbformat": 4,
 "nbformat_minor": 2
}

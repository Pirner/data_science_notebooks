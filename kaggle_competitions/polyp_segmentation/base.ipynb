{
 "cells": [
  {
   "cell_type": "markdown",
   "metadata": {},
   "source": [
    "# Segment Data from Poly detection\n",
    "\n",
    "https://www.kaggle.com/competitions/bkai-igh-neopolyp/overview"
   ]
  },
  {
   "cell_type": "markdown",
   "metadata": {},
   "source": [
    "## 1. Imports and Setup"
   ]
  },
  {
   "cell_type": "markdown",
   "metadata": {},
   "source": [
    "#### 1.1 Imports\n",
    "\n",
    "import all the required packages"
   ]
  },
  {
   "cell_type": "code",
   "execution_count": 1,
   "metadata": {},
   "outputs": [],
   "source": [
    "import os\n",
    "import glob\n",
    "import pandas as pd\n",
    "import cv2\n",
    "from collections import Counter\n",
    "import numpy as np"
   ]
  },
  {
   "cell_type": "code",
   "execution_count": 2,
   "metadata": {},
   "outputs": [
    {
     "name": "stdout",
     "output_type": "stream",
     "text": [
      "Segmentation Models: using `keras` framework.\n"
     ]
    }
   ],
   "source": [
    "import segmentation_models as sm\n",
    "import tensorflow as tf"
   ]
  },
  {
   "cell_type": "markdown",
   "metadata": {},
   "source": [
    "#### 1.2 Setup \n",
    "\n",
    "all the paths and where to find the data"
   ]
  },
  {
   "cell_type": "code",
   "execution_count": 3,
   "metadata": {},
   "outputs": [],
   "source": [
    "data_src = r'C:\\data\\bkai-igh-neopolyp'\n",
    "train_im_path = os.path.join(data_src, 'train')\n",
    "masks_path = os.path.join(data_src, 'train_gt')\n",
    "test_im_files = os.path.join(data_src, 'test')\n",
    "csv_subm_data = os.path.join(data_src, 'sample_submission.csv')"
   ]
  },
  {
   "cell_type": "code",
   "execution_count": 4,
   "metadata": {},
   "outputs": [],
   "source": [
    "BACKBONE = 'efficientnetb3'\n",
    "BATCH_SIZE = 8\n",
    "CLASSES = ['car', 'pedestrian']\n",
    "LR = 0.0001\n",
    "EPOCHS = 40\n",
    "\n",
    "preprocess_input = sm.get_preprocessing(BACKBONE)"
   ]
  },
  {
   "cell_type": "markdown",
   "metadata": {},
   "source": [
    "## 2. Data (EDA, Preprocessing)"
   ]
  },
  {
   "cell_type": "markdown",
   "metadata": {},
   "source": [
    "#### 2.1 Read data from disk"
   ]
  },
  {
   "cell_type": "code",
   "execution_count": 5,
   "metadata": {},
   "outputs": [],
   "source": [
    "train_ims = glob.glob(os.path.join(train_im_path, '**/*.jpeg'), recursive=True)\n",
    "masks = glob.glob(os.path.join(masks_path, '**/*.jpeg'), recursive=True)"
   ]
  },
  {
   "cell_type": "code",
   "execution_count": 6,
   "metadata": {},
   "outputs": [
    {
     "name": "stdout",
     "output_type": "stream",
     "text": [
      "found 1000 train images and 1000 mask images\n"
     ]
    }
   ],
   "source": [
    "print('found {0} train images and {1} mask images'.format(len(train_ims), len(masks)))"
   ]
  },
  {
   "cell_type": "markdown",
   "metadata": {},
   "source": [
    "#### 2.2 Extract all the images sizes"
   ]
  },
  {
   "cell_type": "code",
   "execution_count": 7,
   "metadata": {},
   "outputs": [],
   "source": [
    "heights = []\n",
    "widths = []\n",
    "\n",
    "for im_path in train_ims:\n",
    "    tmp_im = cv2.imread(im_path)\n",
    "    h = tmp_im.shape[0]\n",
    "    w = tmp_im.shape[1]\n",
    "    heights.append(h)\n",
    "    widths.append(w)"
   ]
  },
  {
   "cell_type": "code",
   "execution_count": 8,
   "metadata": {},
   "outputs": [
    {
     "name": "stdout",
     "output_type": "stream",
     "text": [
      "found heights: Counter({995: 589, 959: 261, 977: 127, 969: 19, 1024: 4})\n",
      "found widths: Counter({1280: 1000})\n"
     ]
    }
   ],
   "source": [
    "heights_occ = Counter(heights)\n",
    "widths_occ = Counter(widths)\n",
    "\n",
    "print('found heights:', heights_occ)\n",
    "print('found widths:', widths_occ)"
   ]
  },
  {
   "cell_type": "markdown",
   "metadata": {},
   "source": [
    "## 3. Model Building"
   ]
  },
  {
   "cell_type": "markdown",
   "metadata": {},
   "source": [
    "#### 3.1 Build U-Net to get started"
   ]
  },
  {
   "cell_type": "code",
   "execution_count": 9,
   "metadata": {},
   "outputs": [
    {
     "name": "stdout",
     "output_type": "stream",
     "text": [
      "Downloading data from https://github.com/Callidior/keras-applications/releases/download/efficientnet/efficientnet-b3_weights_tf_dim_ordering_tf_kernels_autoaugment_notop.h5\n",
      "44107200/44107200 [==============================] - 3s 0us/step\n"
     ]
    }
   ],
   "source": [
    "# define network parameters\n",
    "n_classes = 1 if len(CLASSES) == 1 else (len(CLASSES) + 1)  # case for binary and multiclass segmentation\n",
    "activation = 'sigmoid' if n_classes == 1 else 'softmax'\n",
    "\n",
    "#create model\n",
    "model = sm.Unet(BACKBONE, classes=n_classes, activation=activation)"
   ]
  },
  {
   "cell_type": "code",
   "execution_count": 10,
   "metadata": {},
   "outputs": [
    {
     "ename": "NameError",
     "evalue": "name 'np' is not defined",
     "output_type": "error",
     "traceback": [
      "\u001b[1;31m---------------------------------------------------------------------------\u001b[0m",
      "\u001b[1;31mNameError\u001b[0m                                 Traceback (most recent call last)",
      "\u001b[1;32mc:\\dev\\repos\\data_science_notebooks\\kaggle_competitions\\polyp_segmentation\\base.ipynb Cell 19\u001b[0m in \u001b[0;36m<cell line: 6>\u001b[1;34m()\u001b[0m\n\u001b[0;32m      <a href='vscode-notebook-cell:/c%3A/dev/repos/data_science_notebooks/kaggle_competitions/polyp_segmentation/base.ipynb#X26sZmlsZQ%3D%3D?line=1'>2</a>\u001b[0m optim \u001b[39m=\u001b[39m tf\u001b[39m.\u001b[39mkeras\u001b[39m.\u001b[39moptimizers\u001b[39m.\u001b[39mAdam(LR)\n\u001b[0;32m      <a href='vscode-notebook-cell:/c%3A/dev/repos/data_science_notebooks/kaggle_competitions/polyp_segmentation/base.ipynb#X26sZmlsZQ%3D%3D?line=3'>4</a>\u001b[0m \u001b[39m# Segmentation models losses can be combined together by '+' and scaled by integer or float factor\u001b[39;00m\n\u001b[0;32m      <a href='vscode-notebook-cell:/c%3A/dev/repos/data_science_notebooks/kaggle_competitions/polyp_segmentation/base.ipynb#X26sZmlsZQ%3D%3D?line=4'>5</a>\u001b[0m \u001b[39m# set class weights for dice_loss (car: 1.; pedestrian: 2.; background: 0.5;)\u001b[39;00m\n\u001b[1;32m----> <a href='vscode-notebook-cell:/c%3A/dev/repos/data_science_notebooks/kaggle_competitions/polyp_segmentation/base.ipynb#X26sZmlsZQ%3D%3D?line=5'>6</a>\u001b[0m dice_loss \u001b[39m=\u001b[39m sm\u001b[39m.\u001b[39mlosses\u001b[39m.\u001b[39mDiceLoss(class_weights\u001b[39m=\u001b[39mnp\u001b[39m.\u001b[39marray([\u001b[39m1\u001b[39m, \u001b[39m2\u001b[39m, \u001b[39m0.5\u001b[39m])) \n\u001b[0;32m      <a href='vscode-notebook-cell:/c%3A/dev/repos/data_science_notebooks/kaggle_competitions/polyp_segmentation/base.ipynb#X26sZmlsZQ%3D%3D?line=6'>7</a>\u001b[0m focal_loss \u001b[39m=\u001b[39m sm\u001b[39m.\u001b[39mlosses\u001b[39m.\u001b[39mBinaryFocalLoss() \u001b[39mif\u001b[39;00m n_classes \u001b[39m==\u001b[39m \u001b[39m1\u001b[39m \u001b[39melse\u001b[39;00m sm\u001b[39m.\u001b[39mlosses\u001b[39m.\u001b[39mCategoricalFocalLoss()\n\u001b[0;32m      <a href='vscode-notebook-cell:/c%3A/dev/repos/data_science_notebooks/kaggle_competitions/polyp_segmentation/base.ipynb#X26sZmlsZQ%3D%3D?line=7'>8</a>\u001b[0m total_loss \u001b[39m=\u001b[39m dice_loss \u001b[39m+\u001b[39m (\u001b[39m1\u001b[39m \u001b[39m*\u001b[39m focal_loss)\n",
      "\u001b[1;31mNameError\u001b[0m: name 'np' is not defined"
     ]
    }
   ],
   "source": [
    "# define optomizer\n",
    "optim = tf.keras.optimizers.Adam(LR)\n",
    "\n",
    "# Segmentation models losses can be combined together by '+' and scaled by integer or float factor\n",
    "# set class weights for dice_loss (car: 1.; pedestrian: 2.; background: 0.5;)\n",
    "dice_loss = sm.losses.DiceLoss(class_weights=np.array([1, 2, 0.5])) \n",
    "focal_loss = sm.losses.BinaryFocalLoss() if n_classes == 1 else sm.losses.CategoricalFocalLoss()\n",
    "total_loss = dice_loss + (1 * focal_loss)\n",
    "\n",
    "# actulally total_loss can be imported directly from library, above example just show you how to manipulate with losses\n",
    "# total_loss = sm.losses.binary_focal_dice_loss # or sm.losses.categorical_focal_dice_loss \n",
    "\n",
    "metrics = [sm.metrics.IOUScore(threshold=0.5), sm.metrics.FScore(threshold=0.5)]\n",
    "\n",
    "# compile keras model with defined optimozer, loss and metrics\n",
    "model.compile(optim, total_loss, metrics)"
   ]
  },
  {
   "cell_type": "code",
   "execution_count": null,
   "metadata": {},
   "outputs": [],
   "source": []
  }
 ],
 "metadata": {
  "kernelspec": {
   "display_name": "Python 3.9.12 ('ds_playground')",
   "language": "python",
   "name": "python3"
  },
  "language_info": {
   "codemirror_mode": {
    "name": "ipython",
    "version": 3
   },
   "file_extension": ".py",
   "mimetype": "text/x-python",
   "name": "python",
   "nbconvert_exporter": "python",
   "pygments_lexer": "ipython3",
   "version": "3.9.12"
  },
  "orig_nbformat": 4,
  "vscode": {
   "interpreter": {
    "hash": "d845f5b0be500222e5d53fada065b2015f5ea82069a76c414233f9d151c63ec6"
   }
  }
 },
 "nbformat": 4,
 "nbformat_minor": 2
}

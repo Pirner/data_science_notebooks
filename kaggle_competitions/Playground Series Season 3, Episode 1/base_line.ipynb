{
 "cells": [
  {
   "attachments": {},
   "cell_type": "markdown",
   "metadata": {},
   "source": [
    "## Setting a baseline for the competition: \n",
    "\n",
    "https://www.kaggle.com/competitions/playground-series-s3e1/data"
   ]
  },
  {
   "attachments": {},
   "cell_type": "markdown",
   "metadata": {},
   "source": [
    "#### 1. Setting up the configuration"
   ]
  },
  {
   "cell_type": "code",
   "execution_count": 56,
   "metadata": {},
   "outputs": [],
   "source": [
    "import os\n",
    "\n",
    "import numpy as np\n",
    "import pandas as pd\n",
    "\n",
    "# Preprocessing\n",
    "from sklearn.preprocessing import StandardScaler, OneHotEncoder\n",
    "from sklearn.compose import make_column_transformer\n",
    "from sklearn.model_selection import train_test_split\n",
    "\n",
    "# Model Building\n",
    "from tensorflow import keras\n",
    "from tensorflow.keras import layers\n",
    "from tensorflow.keras import callbacks\n",
    "from keras.callbacks import LearningRateScheduler\n",
    "from tensorflow.keras.optimizers import SGD, Adam\n",
    "\n",
    "from math import exp\n",
    "# Data visualisation\n",
    "import matplotlib.pyplot as plt"
   ]
  },
  {
   "cell_type": "code",
   "execution_count": 57,
   "metadata": {},
   "outputs": [
    {
     "data": {
      "text/html": [
       "<div>\n",
       "<style scoped>\n",
       "    .dataframe tbody tr th:only-of-type {\n",
       "        vertical-align: middle;\n",
       "    }\n",
       "\n",
       "    .dataframe tbody tr th {\n",
       "        vertical-align: top;\n",
       "    }\n",
       "\n",
       "    .dataframe thead th {\n",
       "        text-align: right;\n",
       "    }\n",
       "</style>\n",
       "<table border=\"1\" class=\"dataframe\">\n",
       "  <thead>\n",
       "    <tr style=\"text-align: right;\">\n",
       "      <th></th>\n",
       "      <th>MedInc</th>\n",
       "      <th>HouseAge</th>\n",
       "      <th>AveRooms</th>\n",
       "      <th>AveBedrms</th>\n",
       "      <th>Population</th>\n",
       "      <th>AveOccup</th>\n",
       "      <th>Latitude</th>\n",
       "      <th>Longitude</th>\n",
       "      <th>MedHouseVal</th>\n",
       "    </tr>\n",
       "    <tr>\n",
       "      <th>id</th>\n",
       "      <th></th>\n",
       "      <th></th>\n",
       "      <th></th>\n",
       "      <th></th>\n",
       "      <th></th>\n",
       "      <th></th>\n",
       "      <th></th>\n",
       "      <th></th>\n",
       "      <th></th>\n",
       "    </tr>\n",
       "  </thead>\n",
       "  <tbody>\n",
       "    <tr>\n",
       "      <th>0</th>\n",
       "      <td>2.3859</td>\n",
       "      <td>15.0</td>\n",
       "      <td>3.827160</td>\n",
       "      <td>1.112100</td>\n",
       "      <td>1280.0</td>\n",
       "      <td>2.486989</td>\n",
       "      <td>34.60</td>\n",
       "      <td>-120.12</td>\n",
       "      <td>0.980</td>\n",
       "    </tr>\n",
       "    <tr>\n",
       "      <th>1</th>\n",
       "      <td>3.7188</td>\n",
       "      <td>17.0</td>\n",
       "      <td>6.013373</td>\n",
       "      <td>1.054217</td>\n",
       "      <td>1504.0</td>\n",
       "      <td>3.813084</td>\n",
       "      <td>38.69</td>\n",
       "      <td>-121.22</td>\n",
       "      <td>0.946</td>\n",
       "    </tr>\n",
       "    <tr>\n",
       "      <th>2</th>\n",
       "      <td>4.7750</td>\n",
       "      <td>27.0</td>\n",
       "      <td>6.535604</td>\n",
       "      <td>1.103175</td>\n",
       "      <td>1061.0</td>\n",
       "      <td>2.464602</td>\n",
       "      <td>34.71</td>\n",
       "      <td>-120.45</td>\n",
       "      <td>1.576</td>\n",
       "    </tr>\n",
       "    <tr>\n",
       "      <th>3</th>\n",
       "      <td>2.4138</td>\n",
       "      <td>16.0</td>\n",
       "      <td>3.350203</td>\n",
       "      <td>0.965432</td>\n",
       "      <td>1255.0</td>\n",
       "      <td>2.089286</td>\n",
       "      <td>32.66</td>\n",
       "      <td>-117.09</td>\n",
       "      <td>1.336</td>\n",
       "    </tr>\n",
       "    <tr>\n",
       "      <th>4</th>\n",
       "      <td>3.7500</td>\n",
       "      <td>52.0</td>\n",
       "      <td>4.284404</td>\n",
       "      <td>1.069246</td>\n",
       "      <td>1793.0</td>\n",
       "      <td>1.604790</td>\n",
       "      <td>37.80</td>\n",
       "      <td>-122.41</td>\n",
       "      <td>4.500</td>\n",
       "    </tr>\n",
       "  </tbody>\n",
       "</table>\n",
       "</div>"
      ],
      "text/plain": [
       "    MedInc  HouseAge  AveRooms  AveBedrms  Population  AveOccup  Latitude  \\\n",
       "id                                                                          \n",
       "0   2.3859      15.0  3.827160   1.112100      1280.0  2.486989     34.60   \n",
       "1   3.7188      17.0  6.013373   1.054217      1504.0  3.813084     38.69   \n",
       "2   4.7750      27.0  6.535604   1.103175      1061.0  2.464602     34.71   \n",
       "3   2.4138      16.0  3.350203   0.965432      1255.0  2.089286     32.66   \n",
       "4   3.7500      52.0  4.284404   1.069246      1793.0  1.604790     37.80   \n",
       "\n",
       "    Longitude  MedHouseVal  \n",
       "id                          \n",
       "0     -120.12        0.980  \n",
       "1     -121.22        0.946  \n",
       "2     -120.45        1.576  \n",
       "3     -117.09        1.336  \n",
       "4     -122.41        4.500  "
      ]
     },
     "execution_count": 57,
     "metadata": {},
     "output_type": "execute_result"
    }
   ],
   "source": [
    "data_root = r'C:\\kaggle\\playground_series_s3e1\\playground-series-s3e1'\n",
    "train_filepath = os.path.join(data_root, 'train.csv')\n",
    "test_filepath = os.path.join(data_root, 'test.csv')\n",
    "sample_path = os.path.join(data_root, 'sample_submission.csv')\n",
    "\n",
    "train_df = pd.read_csv(train_filepath, index_col='id')\n",
    "test_df = pd.read_csv(test_filepath, index_col='id')\n",
    "sample = pd.read_csv(sample_path)\n",
    "\n",
    "train_df.head(5)"
   ]
  },
  {
   "attachments": {},
   "cell_type": "markdown",
   "metadata": {},
   "source": [
    "Data Validation"
   ]
  },
  {
   "cell_type": "code",
   "execution_count": 58,
   "metadata": {},
   "outputs": [
    {
     "data": {
      "text/plain": [
       "MedInc         0\n",
       "HouseAge       0\n",
       "AveRooms       0\n",
       "AveBedrms      0\n",
       "Population     0\n",
       "AveOccup       0\n",
       "Latitude       0\n",
       "Longitude      0\n",
       "MedHouseVal    0\n",
       "dtype: int64"
      ]
     },
     "execution_count": 58,
     "metadata": {},
     "output_type": "execute_result"
    }
   ],
   "source": [
    "# Check for null values\n",
    "train_df.isna().sum()"
   ]
  },
  {
   "cell_type": "code",
   "execution_count": 59,
   "metadata": {},
   "outputs": [
    {
     "data": {
      "text/html": [
       "<div>\n",
       "<style scoped>\n",
       "    .dataframe tbody tr th:only-of-type {\n",
       "        vertical-align: middle;\n",
       "    }\n",
       "\n",
       "    .dataframe tbody tr th {\n",
       "        vertical-align: top;\n",
       "    }\n",
       "\n",
       "    .dataframe thead th {\n",
       "        text-align: right;\n",
       "    }\n",
       "</style>\n",
       "<table border=\"1\" class=\"dataframe\">\n",
       "  <thead>\n",
       "    <tr style=\"text-align: right;\">\n",
       "      <th></th>\n",
       "      <th>MedInc</th>\n",
       "      <th>HouseAge</th>\n",
       "      <th>AveRooms</th>\n",
       "      <th>AveBedrms</th>\n",
       "      <th>Population</th>\n",
       "      <th>AveOccup</th>\n",
       "      <th>Latitude</th>\n",
       "      <th>Longitude</th>\n",
       "      <th>MedHouseVal</th>\n",
       "    </tr>\n",
       "  </thead>\n",
       "  <tbody>\n",
       "    <tr>\n",
       "      <th>count</th>\n",
       "      <td>37137.000000</td>\n",
       "      <td>37137.000000</td>\n",
       "      <td>37137.000000</td>\n",
       "      <td>37137.000000</td>\n",
       "      <td>37137.000000</td>\n",
       "      <td>37137.000000</td>\n",
       "      <td>37137.000000</td>\n",
       "      <td>37137.000000</td>\n",
       "      <td>37137.000000</td>\n",
       "    </tr>\n",
       "    <tr>\n",
       "      <th>mean</th>\n",
       "      <td>3.851029</td>\n",
       "      <td>26.057005</td>\n",
       "      <td>5.163124</td>\n",
       "      <td>1.062204</td>\n",
       "      <td>1660.778919</td>\n",
       "      <td>2.831243</td>\n",
       "      <td>35.570030</td>\n",
       "      <td>-119.554329</td>\n",
       "      <td>2.079751</td>\n",
       "    </tr>\n",
       "    <tr>\n",
       "      <th>std</th>\n",
       "      <td>1.803167</td>\n",
       "      <td>12.158221</td>\n",
       "      <td>1.206242</td>\n",
       "      <td>0.096490</td>\n",
       "      <td>1302.469608</td>\n",
       "      <td>2.702413</td>\n",
       "      <td>2.083179</td>\n",
       "      <td>1.974028</td>\n",
       "      <td>1.158571</td>\n",
       "    </tr>\n",
       "    <tr>\n",
       "      <th>min</th>\n",
       "      <td>0.499900</td>\n",
       "      <td>2.000000</td>\n",
       "      <td>0.851064</td>\n",
       "      <td>0.500000</td>\n",
       "      <td>3.000000</td>\n",
       "      <td>0.950000</td>\n",
       "      <td>32.550000</td>\n",
       "      <td>-124.350000</td>\n",
       "      <td>0.149990</td>\n",
       "    </tr>\n",
       "    <tr>\n",
       "      <th>25%</th>\n",
       "      <td>2.602300</td>\n",
       "      <td>17.000000</td>\n",
       "      <td>4.357522</td>\n",
       "      <td>1.020305</td>\n",
       "      <td>952.000000</td>\n",
       "      <td>2.394495</td>\n",
       "      <td>33.930000</td>\n",
       "      <td>-121.800000</td>\n",
       "      <td>1.208000</td>\n",
       "    </tr>\n",
       "    <tr>\n",
       "      <th>50%</th>\n",
       "      <td>3.515600</td>\n",
       "      <td>25.000000</td>\n",
       "      <td>5.068611</td>\n",
       "      <td>1.054545</td>\n",
       "      <td>1383.000000</td>\n",
       "      <td>2.744828</td>\n",
       "      <td>34.190000</td>\n",
       "      <td>-118.450000</td>\n",
       "      <td>1.808000</td>\n",
       "    </tr>\n",
       "    <tr>\n",
       "      <th>75%</th>\n",
       "      <td>4.699700</td>\n",
       "      <td>35.000000</td>\n",
       "      <td>5.858597</td>\n",
       "      <td>1.088825</td>\n",
       "      <td>1856.000000</td>\n",
       "      <td>3.125313</td>\n",
       "      <td>37.700000</td>\n",
       "      <td>-118.020000</td>\n",
       "      <td>2.660000</td>\n",
       "    </tr>\n",
       "    <tr>\n",
       "      <th>max</th>\n",
       "      <td>15.000100</td>\n",
       "      <td>52.000000</td>\n",
       "      <td>28.837607</td>\n",
       "      <td>5.873181</td>\n",
       "      <td>35682.000000</td>\n",
       "      <td>502.990610</td>\n",
       "      <td>41.950000</td>\n",
       "      <td>-114.550000</td>\n",
       "      <td>5.000010</td>\n",
       "    </tr>\n",
       "  </tbody>\n",
       "</table>\n",
       "</div>"
      ],
      "text/plain": [
       "             MedInc      HouseAge      AveRooms     AveBedrms    Population  \\\n",
       "count  37137.000000  37137.000000  37137.000000  37137.000000  37137.000000   \n",
       "mean       3.851029     26.057005      5.163124      1.062204   1660.778919   \n",
       "std        1.803167     12.158221      1.206242      0.096490   1302.469608   \n",
       "min        0.499900      2.000000      0.851064      0.500000      3.000000   \n",
       "25%        2.602300     17.000000      4.357522      1.020305    952.000000   \n",
       "50%        3.515600     25.000000      5.068611      1.054545   1383.000000   \n",
       "75%        4.699700     35.000000      5.858597      1.088825   1856.000000   \n",
       "max       15.000100     52.000000     28.837607      5.873181  35682.000000   \n",
       "\n",
       "           AveOccup      Latitude     Longitude   MedHouseVal  \n",
       "count  37137.000000  37137.000000  37137.000000  37137.000000  \n",
       "mean       2.831243     35.570030   -119.554329      2.079751  \n",
       "std        2.702413      2.083179      1.974028      1.158571  \n",
       "min        0.950000     32.550000   -124.350000      0.149990  \n",
       "25%        2.394495     33.930000   -121.800000      1.208000  \n",
       "50%        2.744828     34.190000   -118.450000      1.808000  \n",
       "75%        3.125313     37.700000   -118.020000      2.660000  \n",
       "max      502.990610     41.950000   -114.550000      5.000010  "
      ]
     },
     "execution_count": 59,
     "metadata": {},
     "output_type": "execute_result"
    }
   ],
   "source": [
    "# On initial glance these values all appear to be relatively normal and as expected\n",
    "train_df.describe()"
   ]
  },
  {
   "cell_type": "code",
   "execution_count": 60,
   "metadata": {},
   "outputs": [],
   "source": [
    "skewed_cols = ['MedInc', 'AveRooms', 'AveBedrms', 'Population', 'AveOccup']\n",
    "for col in skewed_cols:\n",
    "    train_df[col] = np.log(train_df[col])\n",
    "    test_df[col] = np.log(test_df[col])"
   ]
  },
  {
   "cell_type": "code",
   "execution_count": 61,
   "metadata": {},
   "outputs": [
    {
     "data": {
      "text/html": [
       "<div>\n",
       "<style scoped>\n",
       "    .dataframe tbody tr th:only-of-type {\n",
       "        vertical-align: middle;\n",
       "    }\n",
       "\n",
       "    .dataframe tbody tr th {\n",
       "        vertical-align: top;\n",
       "    }\n",
       "\n",
       "    .dataframe thead th {\n",
       "        text-align: right;\n",
       "    }\n",
       "</style>\n",
       "<table border=\"1\" class=\"dataframe\">\n",
       "  <thead>\n",
       "    <tr style=\"text-align: right;\">\n",
       "      <th></th>\n",
       "      <th>MedInc</th>\n",
       "      <th>HouseAge</th>\n",
       "      <th>AveRooms</th>\n",
       "      <th>AveBedrms</th>\n",
       "      <th>Population</th>\n",
       "      <th>AveOccup</th>\n",
       "      <th>Latitude</th>\n",
       "      <th>Longitude</th>\n",
       "      <th>MedHouseVal</th>\n",
       "    </tr>\n",
       "  </thead>\n",
       "  <tbody>\n",
       "    <tr>\n",
       "      <th>count</th>\n",
       "      <td>37137.000000</td>\n",
       "      <td>37137.000000</td>\n",
       "      <td>37137.000000</td>\n",
       "      <td>37137.000000</td>\n",
       "      <td>37137.000000</td>\n",
       "      <td>37137.000000</td>\n",
       "      <td>37137.000000</td>\n",
       "      <td>37137.000000</td>\n",
       "      <td>37137.000000</td>\n",
       "    </tr>\n",
       "    <tr>\n",
       "      <th>mean</th>\n",
       "      <td>1.249758</td>\n",
       "      <td>26.057005</td>\n",
       "      <td>1.614762</td>\n",
       "      <td>0.057409</td>\n",
       "      <td>7.225711</td>\n",
       "      <td>1.007768</td>\n",
       "      <td>35.570030</td>\n",
       "      <td>-119.554329</td>\n",
       "      <td>2.079751</td>\n",
       "    </tr>\n",
       "    <tr>\n",
       "      <th>std</th>\n",
       "      <td>0.444341</td>\n",
       "      <td>12.158221</td>\n",
       "      <td>0.233688</td>\n",
       "      <td>0.072357</td>\n",
       "      <td>0.611200</td>\n",
       "      <td>0.235420</td>\n",
       "      <td>2.083179</td>\n",
       "      <td>1.974028</td>\n",
       "      <td>1.158571</td>\n",
       "    </tr>\n",
       "    <tr>\n",
       "      <th>min</th>\n",
       "      <td>-0.693347</td>\n",
       "      <td>2.000000</td>\n",
       "      <td>-0.161268</td>\n",
       "      <td>-0.693147</td>\n",
       "      <td>1.098612</td>\n",
       "      <td>-0.051293</td>\n",
       "      <td>32.550000</td>\n",
       "      <td>-124.350000</td>\n",
       "      <td>0.149990</td>\n",
       "    </tr>\n",
       "    <tr>\n",
       "      <th>25%</th>\n",
       "      <td>0.956396</td>\n",
       "      <td>17.000000</td>\n",
       "      <td>1.471904</td>\n",
       "      <td>0.020101</td>\n",
       "      <td>6.858565</td>\n",
       "      <td>0.873173</td>\n",
       "      <td>33.930000</td>\n",
       "      <td>-121.800000</td>\n",
       "      <td>1.208000</td>\n",
       "    </tr>\n",
       "    <tr>\n",
       "      <th>50%</th>\n",
       "      <td>1.257210</td>\n",
       "      <td>25.000000</td>\n",
       "      <td>1.623067</td>\n",
       "      <td>0.053110</td>\n",
       "      <td>7.232010</td>\n",
       "      <td>1.009718</td>\n",
       "      <td>34.190000</td>\n",
       "      <td>-118.450000</td>\n",
       "      <td>1.808000</td>\n",
       "    </tr>\n",
       "    <tr>\n",
       "      <th>75%</th>\n",
       "      <td>1.547499</td>\n",
       "      <td>35.000000</td>\n",
       "      <td>1.767910</td>\n",
       "      <td>0.085099</td>\n",
       "      <td>7.526179</td>\n",
       "      <td>1.139535</td>\n",
       "      <td>37.700000</td>\n",
       "      <td>-118.020000</td>\n",
       "      <td>2.660000</td>\n",
       "    </tr>\n",
       "    <tr>\n",
       "      <th>max</th>\n",
       "      <td>2.708057</td>\n",
       "      <td>52.000000</td>\n",
       "      <td>3.361680</td>\n",
       "      <td>1.770396</td>\n",
       "      <td>10.482402</td>\n",
       "      <td>6.220572</td>\n",
       "      <td>41.950000</td>\n",
       "      <td>-114.550000</td>\n",
       "      <td>5.000010</td>\n",
       "    </tr>\n",
       "  </tbody>\n",
       "</table>\n",
       "</div>"
      ],
      "text/plain": [
       "             MedInc      HouseAge      AveRooms     AveBedrms    Population  \\\n",
       "count  37137.000000  37137.000000  37137.000000  37137.000000  37137.000000   \n",
       "mean       1.249758     26.057005      1.614762      0.057409      7.225711   \n",
       "std        0.444341     12.158221      0.233688      0.072357      0.611200   \n",
       "min       -0.693347      2.000000     -0.161268     -0.693147      1.098612   \n",
       "25%        0.956396     17.000000      1.471904      0.020101      6.858565   \n",
       "50%        1.257210     25.000000      1.623067      0.053110      7.232010   \n",
       "75%        1.547499     35.000000      1.767910      0.085099      7.526179   \n",
       "max        2.708057     52.000000      3.361680      1.770396     10.482402   \n",
       "\n",
       "           AveOccup      Latitude     Longitude   MedHouseVal  \n",
       "count  37137.000000  37137.000000  37137.000000  37137.000000  \n",
       "mean       1.007768     35.570030   -119.554329      2.079751  \n",
       "std        0.235420      2.083179      1.974028      1.158571  \n",
       "min       -0.051293     32.550000   -124.350000      0.149990  \n",
       "25%        0.873173     33.930000   -121.800000      1.208000  \n",
       "50%        1.009718     34.190000   -118.450000      1.808000  \n",
       "75%        1.139535     37.700000   -118.020000      2.660000  \n",
       "max        6.220572     41.950000   -114.550000      5.000010  "
      ]
     },
     "execution_count": 61,
     "metadata": {},
     "output_type": "execute_result"
    }
   ],
   "source": [
    "train_df.describe()"
   ]
  },
  {
   "attachments": {},
   "cell_type": "markdown",
   "metadata": {},
   "source": [
    "Feature scaling\n",
    "\n",
    "An important step of building a successful Neural Network model is for it's features to be scaled. I have done this on all features within this dataset."
   ]
  },
  {
   "cell_type": "code",
   "execution_count": 62,
   "metadata": {},
   "outputs": [],
   "source": [
    "features = ['MedInc', 'HouseAge', 'AveRooms', 'AveBedrms', 'Population', 'AveOccup', 'Latitude', 'Longitude']\n",
    "# Scale our features \n",
    "preprocessor = make_column_transformer((StandardScaler(), features))"
   ]
  },
  {
   "cell_type": "code",
   "execution_count": 63,
   "metadata": {},
   "outputs": [],
   "source": [
    "# Split the target variable out\n",
    "X_train = train_df.drop(labels=['MedHouseVal'], axis=1)\n",
    "y_train = train_df[\"MedHouseVal\"]\n",
    "\n",
    "# set our test data \n",
    "X_test = test_df.copy()"
   ]
  },
  {
   "cell_type": "code",
   "execution_count": 64,
   "metadata": {},
   "outputs": [],
   "source": [
    "# Transform the features\n",
    "X_train[features] = preprocessor.fit_transform(X_train)\n",
    "X_test[features] = preprocessor.transform(X_test)"
   ]
  },
  {
   "cell_type": "code",
   "execution_count": 65,
   "metadata": {},
   "outputs": [
    {
     "name": "stdout",
     "output_type": "stream",
     "text": [
      "(29709, 8)\n",
      "(29709,)\n",
      "(7428, 8)\n",
      "(7428,)\n"
     ]
    }
   ],
   "source": [
    "# Split out our training data into a validation set\n",
    "X_train, X_valid, y_train, y_valid = train_test_split(X_train, y_train, test_size=0.2)\n",
    "print(X_train.shape)\n",
    "print(y_train.shape)\n",
    "print(X_valid.shape)\n",
    "print(y_valid.shape)"
   ]
  },
  {
   "attachments": {},
   "cell_type": "markdown",
   "metadata": {},
   "source": [
    "#### 2. Model Building"
   ]
  },
  {
   "cell_type": "code",
   "execution_count": 66,
   "metadata": {},
   "outputs": [],
   "source": [
    "def scheduler(epoch, lr):\n",
    "    if epoch < 10:\n",
    "        return lr\n",
    "    else:\n",
    "        return lr * exp(-0.1)\n",
    "\n",
    "annealer = LearningRateScheduler(scheduler)\n"
   ]
  },
  {
   "cell_type": "code",
   "execution_count": 67,
   "metadata": {},
   "outputs": [],
   "source": [
    "# Set the architecture for our model\n",
    "model = keras.Sequential([\n",
    "    layers.Dense(2048, activation='relu', input_shape=[X_train.shape[1]]),\n",
    "    layers.BatchNormalization(),\n",
    "    layers.Dense(1024, activation='relu', input_shape=[X_train.shape[1]]),\n",
    "    layers.BatchNormalization(),\n",
    "    layers.Dense(512, activation='relu', input_shape=[X_train.shape[1]]),\n",
    "    layers.BatchNormalization(),\n",
    "    layers.Dense(256, activation='relu', input_shape=[X_train.shape[1]]),\n",
    "    layers.BatchNormalization(),\n",
    "    layers.Dense(128, activation='relu', input_shape=[X_train.shape[1]]),\n",
    "    layers.BatchNormalization(),\n",
    "    layers.Dropout(0.4),\n",
    "    layers.Dense(1),\n",
    "])"
   ]
  },
  {
   "cell_type": "code",
   "execution_count": 68,
   "metadata": {},
   "outputs": [],
   "source": [
    "# Compile our model setting an optimizer and loss function\n",
    "model.compile(\n",
    "    optimizer=Adam(learning_rate=1e-3),\n",
    "    loss='mean_squared_error' # we can use mse as the loss function as our keras model doesn't have a root_mean_squared_error loss function \n",
    ")"
   ]
  },
  {
   "cell_type": "code",
   "execution_count": 69,
   "metadata": {},
   "outputs": [],
   "source": [
    "early_stopping = callbacks.EarlyStopping(patience=15, min_delta=0.001, restore_best_weights=True)"
   ]
  },
  {
   "cell_type": "code",
   "execution_count": 70,
   "metadata": {},
   "outputs": [
    {
     "name": "stdout",
     "output_type": "stream",
     "text": [
      "Epoch 1/50\n",
      "929/929 [==============================] - 20s 20ms/step - loss: 1.5478 - val_loss: 0.4558 - lr: 0.0010\n",
      "Epoch 2/50\n",
      "929/929 [==============================] - 17s 18ms/step - loss: 0.6392 - val_loss: 0.4368 - lr: 0.0010\n",
      "Epoch 3/50\n",
      "929/929 [==============================] - 18s 19ms/step - loss: 0.5464 - val_loss: 0.4144 - lr: 0.0010\n",
      "Epoch 4/50\n",
      "929/929 [==============================] - 17s 19ms/step - loss: 0.5081 - val_loss: 0.4300 - lr: 0.0010\n",
      "Epoch 5/50\n",
      "929/929 [==============================] - 17s 18ms/step - loss: 0.4958 - val_loss: 0.4171 - lr: 0.0010\n",
      "Epoch 6/50\n",
      "929/929 [==============================] - 17s 18ms/step - loss: 0.4901 - val_loss: 0.4177 - lr: 0.0010\n",
      "Epoch 7/50\n",
      "929/929 [==============================] - 16s 18ms/step - loss: 0.4857 - val_loss: 0.4214 - lr: 0.0010\n",
      "Epoch 8/50\n",
      "929/929 [==============================] - 17s 18ms/step - loss: 0.4841 - val_loss: 0.4197 - lr: 0.0010\n",
      "Epoch 9/50\n",
      "929/929 [==============================] - 18s 20ms/step - loss: 0.4675 - val_loss: 0.4220 - lr: 0.0010\n",
      "Epoch 10/50\n",
      "929/929 [==============================] - 20s 21ms/step - loss: 0.4632 - val_loss: 0.4276 - lr: 0.0010\n",
      "Epoch 11/50\n",
      "929/929 [==============================] - 18s 19ms/step - loss: 0.4538 - val_loss: 0.4073 - lr: 9.0484e-04\n",
      "Epoch 12/50\n",
      "929/929 [==============================] - 18s 19ms/step - loss: 0.4529 - val_loss: 0.4238 - lr: 8.1873e-04\n",
      "Epoch 13/50\n",
      "929/929 [==============================] - 19s 21ms/step - loss: 0.4482 - val_loss: 0.4123 - lr: 7.4082e-04\n",
      "Epoch 14/50\n",
      "929/929 [==============================] - 20s 21ms/step - loss: 0.4479 - val_loss: 0.3985 - lr: 6.7032e-04\n",
      "Epoch 15/50\n",
      "929/929 [==============================] - 20s 21ms/step - loss: 0.4355 - val_loss: 0.3963 - lr: 6.0653e-04\n",
      "Epoch 16/50\n",
      "929/929 [==============================] - 20s 22ms/step - loss: 0.4330 - val_loss: 0.3909 - lr: 5.4881e-04\n",
      "Epoch 17/50\n",
      "929/929 [==============================] - 20s 22ms/step - loss: 0.4283 - val_loss: 0.3912 - lr: 4.9659e-04\n",
      "Epoch 18/50\n",
      "929/929 [==============================] - 20s 22ms/step - loss: 0.4262 - val_loss: 0.3864 - lr: 4.4933e-04\n",
      "Epoch 19/50\n",
      "929/929 [==============================] - 19s 20ms/step - loss: 0.4168 - val_loss: 0.3874 - lr: 4.0657e-04\n",
      "Epoch 20/50\n",
      "929/929 [==============================] - 18s 19ms/step - loss: 0.4159 - val_loss: 0.3864 - lr: 3.6788e-04\n",
      "Epoch 21/50\n",
      "929/929 [==============================] - 18s 19ms/step - loss: 0.4104 - val_loss: 0.3779 - lr: 3.3287e-04\n",
      "Epoch 22/50\n",
      "929/929 [==============================] - 20s 21ms/step - loss: 0.4039 - val_loss: 0.3796 - lr: 3.0119e-04\n",
      "Epoch 23/50\n",
      "929/929 [==============================] - 21s 22ms/step - loss: 0.4039 - val_loss: 0.3911 - lr: 2.7253e-04\n",
      "Epoch 24/50\n",
      "929/929 [==============================] - 19s 20ms/step - loss: 0.3970 - val_loss: 0.3782 - lr: 2.4660e-04\n",
      "Epoch 25/50\n",
      "929/929 [==============================] - 20s 22ms/step - loss: 0.3976 - val_loss: 0.3830 - lr: 2.2313e-04\n",
      "Epoch 26/50\n",
      "929/929 [==============================] - 20s 21ms/step - loss: 0.3951 - val_loss: 0.3941 - lr: 2.0190e-04\n",
      "Epoch 27/50\n",
      "929/929 [==============================] - 18s 20ms/step - loss: 0.3887 - val_loss: 0.3894 - lr: 1.8268e-04\n",
      "Epoch 28/50\n",
      "929/929 [==============================] - 18s 20ms/step - loss: 0.3882 - val_loss: 0.3770 - lr: 1.6530e-04\n",
      "Epoch 29/50\n",
      "929/929 [==============================] - 18s 19ms/step - loss: 0.3810 - val_loss: 0.3864 - lr: 1.4957e-04\n",
      "Epoch 30/50\n",
      "929/929 [==============================] - 19s 21ms/step - loss: 0.3862 - val_loss: 0.3761 - lr: 1.3534e-04\n",
      "Epoch 31/50\n",
      "929/929 [==============================] - 19s 20ms/step - loss: 0.3751 - val_loss: 0.3838 - lr: 1.2246e-04\n",
      "Epoch 32/50\n",
      "929/929 [==============================] - 20s 21ms/step - loss: 0.3701 - val_loss: 0.3924 - lr: 1.1080e-04\n",
      "Epoch 33/50\n",
      "929/929 [==============================] - 19s 20ms/step - loss: 0.3691 - val_loss: 0.3799 - lr: 1.0026e-04\n",
      "Epoch 34/50\n",
      "929/929 [==============================] - 17s 19ms/step - loss: 0.3659 - val_loss: 0.3801 - lr: 9.0718e-05\n",
      "Epoch 35/50\n",
      "929/929 [==============================] - 18s 20ms/step - loss: 0.3649 - val_loss: 0.3859 - lr: 8.2085e-05\n",
      "Epoch 36/50\n",
      "929/929 [==============================] - 18s 19ms/step - loss: 0.3637 - val_loss: 0.3933 - lr: 7.4274e-05\n",
      "Epoch 37/50\n",
      "929/929 [==============================] - 20s 22ms/step - loss: 0.3641 - val_loss: 0.3866 - lr: 6.7206e-05\n",
      "Epoch 38/50\n",
      "929/929 [==============================] - 17s 18ms/step - loss: 0.3612 - val_loss: 0.3851 - lr: 6.0810e-05\n",
      "Epoch 39/50\n",
      "929/929 [==============================] - 19s 21ms/step - loss: 0.3588 - val_loss: 0.3860 - lr: 5.5023e-05\n",
      "Epoch 40/50\n",
      "929/929 [==============================] - 19s 20ms/step - loss: 0.3612 - val_loss: 0.3858 - lr: 4.9787e-05\n",
      "Epoch 41/50\n",
      "929/929 [==============================] - 19s 20ms/step - loss: 0.3573 - val_loss: 0.3909 - lr: 4.5049e-05\n",
      "Epoch 42/50\n",
      "929/929 [==============================] - 18s 20ms/step - loss: 0.3531 - val_loss: 0.3937 - lr: 4.0762e-05\n",
      "Epoch 43/50\n",
      "929/929 [==============================] - 18s 20ms/step - loss: 0.3560 - val_loss: 0.3877 - lr: 3.6883e-05\n",
      "Epoch 44/50\n",
      "929/929 [==============================] - 19s 21ms/step - loss: 0.3552 - val_loss: 0.3836 - lr: 3.3373e-05\n",
      "Epoch 45/50\n",
      "929/929 [==============================] - 19s 21ms/step - loss: 0.3534 - val_loss: 0.3939 - lr: 3.0197e-05\n"
     ]
    }
   ],
   "source": [
    "history = model.fit(\n",
    "    X_train, y_train,\n",
    "    validation_data=(X_valid, y_valid),\n",
    "    batch_size=32,\n",
    "    epochs=50, # Set this to a large number as early stopping will stop us once the min_delta isn't being reached\n",
    "    # verbose=0, # suppress output as we'll plot the curves instead\n",
    "    callbacks=[early_stopping, annealer]\n",
    ")"
   ]
  },
  {
   "attachments": {},
   "cell_type": "markdown",
   "metadata": {},
   "source": [
    "By plotting the history of each epoch we can see that we begin to overfit on the training set after around 60 epochs. This is the lowest point of validation loss and we have a gradual increase in validation_loss after that point."
   ]
  },
  {
   "cell_type": "code",
   "execution_count": 71,
   "metadata": {},
   "outputs": [
    {
     "name": "stdout",
     "output_type": "stream",
     "text": [
      "Minimum Validation Loss: 0.3761\n"
     ]
    },
    {
     "data": {
      "image/png": "[encoded data removed]",
      "text/plain": [
       "<Figure size 640x480 with 1 Axes>"
      ]
     },
     "metadata": {},
     "output_type": "display_data"
    }
   ],
   "source": [
    "history_df = pd.DataFrame(history.history)\n",
    "history_df.loc[:, ['loss', 'val_loss']].plot()\n",
    "print(\"Minimum Validation Loss: {:0.4f}\".format(history_df['val_loss'].min()))"
   ]
  },
  {
   "cell_type": "code",
   "execution_count": 72,
   "metadata": {},
   "outputs": [
    {
     "name": "stdout",
     "output_type": "stream",
     "text": [
      "Model: \"sequential_3\"\n",
      "_________________________________________________________________\n",
      " Layer (type)                Output Shape              Param #   \n",
      "=================================================================\n",
      " dense_13 (Dense)            (None, 2048)              18432     \n",
      "                                                                 \n",
      " batch_normalization_7 (Batc  (None, 2048)             8192      \n",
      " hNormalization)                                                 \n",
      "                                                                 \n",
      " dense_14 (Dense)            (None, 1024)              2098176   \n",
      "                                                                 \n",
      " batch_normalization_8 (Batc  (None, 1024)             4096      \n",
      " hNormalization)                                                 \n",
      "                                                                 \n",
      " dense_15 (Dense)            (None, 512)               524800    \n",
      "                                                                 \n",
      " batch_normalization_9 (Batc  (None, 512)              2048      \n",
      " hNormalization)                                                 \n",
      "                                                                 \n",
      " dense_16 (Dense)            (None, 256)               131328    \n",
      "                                                                 \n",
      " batch_normalization_10 (Bat  (None, 256)              1024      \n",
      " chNormalization)                                                \n",
      "                                                                 \n",
      " dense_17 (Dense)            (None, 128)               32896     \n",
      "                                                                 \n",
      " batch_normalization_11 (Bat  (None, 128)              512       \n",
      " chNormalization)                                                \n",
      "                                                                 \n",
      " dropout_2 (Dropout)         (None, 128)               0         \n",
      "                                                                 \n",
      " dense_18 (Dense)            (None, 1)                 129       \n",
      "                                                                 \n",
      "=================================================================\n",
      "Total params: 2,821,633\n",
      "Trainable params: 2,813,697\n",
      "Non-trainable params: 7,936\n",
      "_________________________________________________________________\n"
     ]
    }
   ],
   "source": [
    "model.summary()"
   ]
  },
  {
   "cell_type": "code",
   "execution_count": 73,
   "metadata": {},
   "outputs": [
    {
     "name": "stdout",
     "output_type": "stream",
     "text": [
      "774/774 [==============================] - 4s 5ms/step\n"
     ]
    },
    {
     "data": {
      "text/plain": [
       "array([0.7248474, 1.1366855, 3.6954782, ..., 1.1577764, 3.8448694,\n",
       "       2.7609935], dtype=float32)"
      ]
     },
     "execution_count": 73,
     "metadata": {},
     "output_type": "execute_result"
    }
   ],
   "source": [
    "# Set our predictions and ravel them into a 1D array\n",
    "preds = model.predict(X_test).ravel()\n",
    "preds"
   ]
  },
  {
   "cell_type": "code",
   "execution_count": 74,
   "metadata": {},
   "outputs": [
    {
     "data": {
      "text/plain": [
       "True"
      ]
     },
     "execution_count": 74,
     "metadata": {},
     "output_type": "execute_result"
    }
   ],
   "source": [
    "# Check the number of predictions matches the number of rows in the test dataset\n",
    "len(preds) == len(X_test.index)"
   ]
  },
  {
   "cell_type": "code",
   "execution_count": 75,
   "metadata": {},
   "outputs": [
    {
     "data": {
      "text/html": [
       "<div>\n",
       "<style scoped>\n",
       "    .dataframe tbody tr th:only-of-type {\n",
       "        vertical-align: middle;\n",
       "    }\n",
       "\n",
       "    .dataframe tbody tr th {\n",
       "        vertical-align: top;\n",
       "    }\n",
       "\n",
       "    .dataframe thead th {\n",
       "        text-align: right;\n",
       "    }\n",
       "</style>\n",
       "<table border=\"1\" class=\"dataframe\">\n",
       "  <thead>\n",
       "    <tr style=\"text-align: right;\">\n",
       "      <th></th>\n",
       "      <th>MedHouseVal</th>\n",
       "    </tr>\n",
       "    <tr>\n",
       "      <th>id</th>\n",
       "      <th></th>\n",
       "    </tr>\n",
       "  </thead>\n",
       "  <tbody>\n",
       "    <tr>\n",
       "      <th>37137</th>\n",
       "      <td>0.724847</td>\n",
       "    </tr>\n",
       "    <tr>\n",
       "      <th>37138</th>\n",
       "      <td>1.136685</td>\n",
       "    </tr>\n",
       "    <tr>\n",
       "      <th>37139</th>\n",
       "      <td>3.695478</td>\n",
       "    </tr>\n",
       "    <tr>\n",
       "      <th>37140</th>\n",
       "      <td>3.984373</td>\n",
       "    </tr>\n",
       "    <tr>\n",
       "      <th>37141</th>\n",
       "      <td>2.470031</td>\n",
       "    </tr>\n",
       "  </tbody>\n",
       "</table>\n",
       "</div>"
      ],
      "text/plain": [
       "       MedHouseVal\n",
       "id                \n",
       "37137     0.724847\n",
       "37138     1.136685\n",
       "37139     3.695478\n",
       "37140     3.984373\n",
       "37141     2.470031"
      ]
     },
     "execution_count": 75,
     "metadata": {},
     "output_type": "execute_result"
    }
   ],
   "source": [
    "submission = pd.DataFrame({'id': test_df.index, \n",
    "                           'MedHouseVal': preds}).set_index('id')\n",
    "submission.head()"
   ]
  },
  {
   "cell_type": "code",
   "execution_count": 76,
   "metadata": {},
   "outputs": [],
   "source": [
    "submission.to_csv(\"submission_3.csv\", index=True)"
   ]
  },
  {
   "cell_type": "code",
   "execution_count": null,
   "metadata": {},
   "outputs": [],
   "source": []
  }
 ],
 "metadata": {
  "kernelspec": {
   "display_name": "tf_env",
   "language": "python",
   "name": "python3"
  },
  "language_info": {
   "codemirror_mode": {
    "name": "ipython",
    "version": 3
   },
   "file_extension": ".py",
   "mimetype": "text/x-python",
   "name": "python",
   "nbconvert_exporter": "python",
   "pygments_lexer": "ipython3",
   "version": "3.8.13 (default, Mar 28 2022, 06:59:08) [MSC v.1916 64 bit (AMD64)]"
  },
  "orig_nbformat": 4,
  "vscode": {
   "interpreter": {
    "hash": "9d53955b98930df7b7a83973cc5b5f864c7b2cf1be870fc5afe28ba9d8b57206"
   }
  }
 },
 "nbformat": 4,
 "nbformat_minor": 2
}

{
 "cells": [
  {
   "cell_type": "markdown",
   "metadata": {},
   "source": [
    "## Create some Convolutional Auto Encoders with PyTorch"
   ]
  },
  {
   "cell_type": "code",
   "execution_count": 42,
   "metadata": {},
   "outputs": [],
   "source": [
    "# imports\n",
    "import os, glob\n",
    "\n",
    "from torch.utils.data import Dataset, DataLoader\n",
    "import torch\n",
    "import torch.nn as nn\n",
    "from torch.optim import SGD\n",
    "import torch.nn.functional as F\n",
    "\n",
    "import cv2"
   ]
  },
  {
   "cell_type": "markdown",
   "metadata": {},
   "source": [
    "### 1. Create variables"
   ]
  },
  {
   "cell_type": "code",
   "execution_count": 9,
   "metadata": {},
   "outputs": [],
   "source": [
    "data_dir = r'C:\\kaggle\\plant-pathology-2021-fgvc8\\train_images'\n",
    "device = 'cpu'"
   ]
  },
  {
   "cell_type": "markdown",
   "metadata": {},
   "source": [
    "### 2. Create datasets"
   ]
  },
  {
   "cell_type": "code",
   "execution_count": 10,
   "metadata": {},
   "outputs": [],
   "source": [
    "from torch.utils.data import Dataset\n",
    "from torchvision import transforms\n"
   ]
  },
  {
   "cell_type": "code",
   "execution_count": 26,
   "metadata": {},
   "outputs": [],
   "source": [
    "class CAEDataset(Dataset):\n",
    "    def __init__(self, im_paths, data_transforms=None) -> None:\n",
    "        super().__init__()\n",
    "        self.im_paths = im_paths\n",
    "        self.data_transforms = data_transforms\n",
    "\n",
    "    def  __len__(self):\n",
    "        return len(self.im_paths)\n",
    "\n",
    "    def __getitem__(self, index):\n",
    "        im = cv2.imread(self.im_paths[index])\n",
    "        if self.data_transforms:\n",
    "            im = self.data_transforms(im)\n",
    "\n",
    "        return im"
   ]
  },
  {
   "cell_type": "markdown",
   "metadata": {},
   "source": [
    "#### Create the dataloaders"
   ]
  },
  {
   "cell_type": "code",
   "execution_count": 27,
   "metadata": {},
   "outputs": [],
   "source": [
    "ds_transforms = transforms.Compose([\n",
    "    transforms.ToPILImage(),\n",
    "    transforms.Resize((224, 224)),\n",
    "    transforms.ToTensor(),\n",
    "])"
   ]
  },
  {
   "cell_type": "code",
   "execution_count": 28,
   "metadata": {},
   "outputs": [],
   "source": [
    "im_paths = glob.glob(os.path.join(data_dir, '*.jpg'))"
   ]
  },
  {
   "cell_type": "code",
   "execution_count": 29,
   "metadata": {},
   "outputs": [
    {
     "data": {
      "text/plain": [
       "18632"
      ]
     },
     "execution_count": 29,
     "metadata": {},
     "output_type": "execute_result"
    }
   ],
   "source": [
    "len(im_paths)"
   ]
  },
  {
   "cell_type": "code",
   "execution_count": 33,
   "metadata": {},
   "outputs": [],
   "source": [
    "train_ds = CAEDataset(im_paths=im_paths, data_transforms=ds_transforms)"
   ]
  },
  {
   "cell_type": "code",
   "execution_count": 34,
   "metadata": {},
   "outputs": [],
   "source": [
    "train_loader = DataLoader(train_ds, batch_size=4, num_workers=0)"
   ]
  },
  {
   "cell_type": "code",
   "execution_count": 35,
   "metadata": {},
   "outputs": [
    {
     "name": "stdout",
     "output_type": "stream",
     "text": [
      "torch.Size([4, 3, 224, 224])\n"
     ]
    }
   ],
   "source": [
    "for x in train_loader:\n",
    "    print(x.shape)\n",
    "    break"
   ]
  },
  {
   "cell_type": "markdown",
   "metadata": {},
   "source": [
    "### 3. Create Model"
   ]
  },
  {
   "cell_type": "code",
   "execution_count": 37,
   "metadata": {},
   "outputs": [],
   "source": [
    "# define the NN architecture\n",
    "class ConvAutoencoder(nn.Module):\n",
    "    def __init__(self):\n",
    "        super(ConvAutoencoder, self).__init__()\n",
    "        # encoder layers #\n",
    "        # conv layer (depth from 3 --> 16), 3x3 kernels\n",
    "        self.conv1 = nn.Conv2d(3, 16, 3, padding=1)\n",
    "        # conv layer (depth from 16 --> 4), 3x3 kernels\n",
    "        self.conv2 = nn.Conv2d(16, 4, 3, padding=1)\n",
    "        # pooling layer to reduce x-y dims by two; kernel and stride of 2\n",
    "        self.pool = nn.MaxPool2d(2, 2)\n",
    "\n",
    "        # decoder layers #\n",
    "        # a kernel of 2 and a stride of 2 will increase the spatial dims by 2\n",
    "        self.t_conv1 = nn.ConvTranspose2d(4, 16, 2, stride=2)\n",
    "        self.t_conv2 = nn.ConvTranspose2d(16, 3, 2, stride=2)\n",
    "\n",
    "    def forward(self, x):\n",
    "        # encode #\n",
    "        # add hidden layers with relu activation function\n",
    "        # and max pooling after\n",
    "        x = F.relu(self.conv1(x))\n",
    "        x = self.pool(x)\n",
    "        # add second hidden layer\n",
    "        x = F.relu(self.conv2(x))\n",
    "        x = self.pool(x)  # compressed representation\n",
    "\n",
    "        # decode #\n",
    "        # add transpose conv layers, with relu activation function\n",
    "        x = F.relu(self.t_conv1(x))\n",
    "        # output layer (with sigmoid for scaling from 0 to 1)\n",
    "        x = F.sigmoid(self.t_conv2(x))\n",
    "\n",
    "        return x"
   ]
  },
  {
   "cell_type": "code",
   "execution_count": 39,
   "metadata": {},
   "outputs": [],
   "source": [
    "network = ConvAutoencoder()\n",
    "loss = nn.MSELoss()\n",
    "opt = SGD(network.parameters(), lr=0.001)"
   ]
  },
  {
   "cell_type": "code",
   "execution_count": 43,
   "metadata": {},
   "outputs": [
    {
     "name": "stderr",
     "output_type": "stream",
     "text": [
      "c:\\Users\\steph\\anaconda3\\envs\\ds_playground\\lib\\site-packages\\torch\\nn\\functional.py:1960: UserWarning: nn.functional.sigmoid is deprecated. Use torch.sigmoid instead.\n",
      "  warnings.warn(\"nn.functional.sigmoid is deprecated. Use torch.sigmoid instead.\")\n"
     ]
    },
    {
     "name": "stdout",
     "output_type": "stream",
     "text": [
      "tensor(0.0343, grad_fn=<MseLossBackward0>)\n",
      "tensor(0.0469, grad_fn=<MseLossBackward0>)\n",
      "tensor(0.0371, grad_fn=<MseLossBackward0>)\n",
      "tensor(0.0596, grad_fn=<MseLossBackward0>)\n",
      "tensor(0.0494, grad_fn=<MseLossBackward0>)\n",
      "tensor(0.0553, grad_fn=<MseLossBackward0>)\n",
      "tensor(0.0725, grad_fn=<MseLossBackward0>)\n",
      "tensor(0.0403, grad_fn=<MseLossBackward0>)\n",
      "tensor(0.0530, grad_fn=<MseLossBackward0>)\n",
      "tensor(0.0568, grad_fn=<MseLossBackward0>)\n",
      "tensor(0.0356, grad_fn=<MseLossBackward0>)\n",
      "tensor(0.0517, grad_fn=<MseLossBackward0>)\n",
      "tensor(0.0346, grad_fn=<MseLossBackward0>)\n",
      "tensor(0.0474, grad_fn=<MseLossBackward0>)\n",
      "tensor(0.0430, grad_fn=<MseLossBackward0>)\n",
      "tensor(0.0475, grad_fn=<MseLossBackward0>)\n",
      "tensor(0.0452, grad_fn=<MseLossBackward0>)\n",
      "tensor(0.0438, grad_fn=<MseLossBackward0>)\n",
      "tensor(0.0424, grad_fn=<MseLossBackward0>)\n",
      "tensor(0.0358, grad_fn=<MseLossBackward0>)\n",
      "tensor(0.0430, grad_fn=<MseLossBackward0>)\n",
      "tensor(0.0342, grad_fn=<MseLossBackward0>)\n",
      "tensor(0.0342, grad_fn=<MseLossBackward0>)\n",
      "tensor(0.0342, grad_fn=<MseLossBackward0>)\n",
      "tensor(0.0342, grad_fn=<MseLossBackward0>)\n",
      "tensor(0.0342, grad_fn=<MseLossBackward0>)\n",
      "tensor(0.0342, grad_fn=<MseLossBackward0>)\n",
      "tensor(0.0342, grad_fn=<MseLossBackward0>)\n",
      "tensor(0.0342, grad_fn=<MseLossBackward0>)\n",
      "tensor(0.0342, grad_fn=<MseLossBackward0>)\n",
      "tensor(0.0342, grad_fn=<MseLossBackward0>)\n",
      "tensor(0.0342, grad_fn=<MseLossBackward0>)\n",
      "tensor(0.0342, grad_fn=<MseLossBackward0>)\n",
      "tensor(0.0342, grad_fn=<MseLossBackward0>)\n",
      "tensor(0.0342, grad_fn=<MseLossBackward0>)\n",
      "tensor(0.0342, grad_fn=<MseLossBackward0>)\n",
      "tensor(0.0342, grad_fn=<MseLossBackward0>)\n",
      "tensor(0.0342, grad_fn=<MseLossBackward0>)\n",
      "tensor(0.0342, grad_fn=<MseLossBackward0>)\n",
      "tensor(0.0342, grad_fn=<MseLossBackward0>)\n"
     ]
    }
   ],
   "source": [
    "i = 0\n",
    "\n",
    "for _ in range(20):\n",
    "    for data in train_loader:\n",
    "        im = data\n",
    "        opt.zero_grad()\n",
    "        prediction = network(im)\n",
    "        loss_value = loss(prediction, im)\n",
    "        loss_value.backward()\n",
    "        opt.step()\n",
    "        print(loss_value)\n",
    "\n",
    "        i += 1\n",
    "        if i > 20:\n",
    "            break"
   ]
  },
  {
   "cell_type": "code",
   "execution_count": null,
   "metadata": {},
   "outputs": [],
   "source": []
  }
 ],
 "metadata": {
  "kernelspec": {
   "display_name": "Python 3.9.12 ('ds_playground')",
   "language": "python",
   "name": "python3"
  },
  "language_info": {
   "codemirror_mode": {
    "name": "ipython",
    "version": 3
   },
   "file_extension": ".py",
   "mimetype": "text/x-python",
   "name": "python",
   "nbconvert_exporter": "python",
   "pygments_lexer": "ipython3",
   "version": "3.9.12"
  },
  "orig_nbformat": 4,
  "vscode": {
   "interpreter": {
    "hash": "d845f5b0be500222e5d53fada065b2015f5ea82069a76c414233f9d151c63ec6"
   }
  }
 },
 "nbformat": 4,
 "nbformat_minor": 2
}

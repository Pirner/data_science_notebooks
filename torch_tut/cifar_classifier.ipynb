{
 "cells": [
  {
   "cell_type": "markdown",
   "metadata": {},
   "source": [
    "### Perform simple image classification with PyTorch (switching from Tensorflow"
   ]
  },
  {
   "cell_type": "code",
   "execution_count": null,
   "metadata": {},
   "outputs": [],
   "source": [
    "import torch\n",
    "import torchvision\n",
    "import torchvision.transforms as transforms"
   ]
  },
  {
   "cell_type": "code",
   "execution_count": 1,
   "metadata": {},
   "outputs": [
    {
     "ename": "NameError",
     "evalue": "name 'transforms' is not defined",
     "output_type": "error",
     "traceback": [
      "\u001b[1;31m---------------------------------------------------------------------------\u001b[0m",
      "\u001b[1;31mNameError\u001b[0m                                 Traceback (most recent call last)",
      "\u001b[1;32mc:\\dev\\repos\\data_science_notebooks\\torch_tut\\cifar_classifier.ipynb Cell 3\u001b[0m in \u001b[0;36m<cell line: 1>\u001b[1;34m()\u001b[0m\n\u001b[1;32m----> <a href='vscode-notebook-cell:/c%3A/dev/repos/data_science_notebooks/torch_tut/cifar_classifier.ipynb#W2sZmlsZQ%3D%3D?line=0'>1</a>\u001b[0m transform \u001b[39m=\u001b[39m transforms\u001b[39m.\u001b[39mCompose([\n\u001b[0;32m      <a href='vscode-notebook-cell:/c%3A/dev/repos/data_science_notebooks/torch_tut/cifar_classifier.ipynb#W2sZmlsZQ%3D%3D?line=1'>2</a>\u001b[0m     transforms\u001b[39m.\u001b[39mToTensor(),\n\u001b[0;32m      <a href='vscode-notebook-cell:/c%3A/dev/repos/data_science_notebooks/torch_tut/cifar_classifier.ipynb#W2sZmlsZQ%3D%3D?line=2'>3</a>\u001b[0m     transforms\u001b[39m.\u001b[39mNormalize((\u001b[39m0.5\u001b[39m, \u001b[39m0.5\u001b[39m, \u001b[39m0.5\u001b[39m), (\u001b[39m0.5\u001b[39m, \u001b[39m0.5\u001b[39m, \u001b[39m0.5\u001b[39m))\n\u001b[0;32m      <a href='vscode-notebook-cell:/c%3A/dev/repos/data_science_notebooks/torch_tut/cifar_classifier.ipynb#W2sZmlsZQ%3D%3D?line=3'>4</a>\u001b[0m ])\n\u001b[0;32m      <a href='vscode-notebook-cell:/c%3A/dev/repos/data_science_notebooks/torch_tut/cifar_classifier.ipynb#W2sZmlsZQ%3D%3D?line=5'>6</a>\u001b[0m batch_size \u001b[39m=\u001b[39m \u001b[39m4\u001b[39m\n\u001b[0;32m      <a href='vscode-notebook-cell:/c%3A/dev/repos/data_science_notebooks/torch_tut/cifar_classifier.ipynb#W2sZmlsZQ%3D%3D?line=7'>8</a>\u001b[0m trainset \u001b[39m=\u001b[39m torchvision\u001b[39m.\u001b[39mdatasets\u001b[39m.\u001b[39mCIFAR10(\n\u001b[0;32m      <a href='vscode-notebook-cell:/c%3A/dev/repos/data_science_notebooks/torch_tut/cifar_classifier.ipynb#W2sZmlsZQ%3D%3D?line=8'>9</a>\u001b[0m     root\u001b[39m=\u001b[39m\u001b[39m'\u001b[39m\u001b[39m./data\u001b[39m\u001b[39m'\u001b[39m, \n\u001b[0;32m     <a href='vscode-notebook-cell:/c%3A/dev/repos/data_science_notebooks/torch_tut/cifar_classifier.ipynb#W2sZmlsZQ%3D%3D?line=9'>10</a>\u001b[0m     train\u001b[39m=\u001b[39m\u001b[39mTrue\u001b[39;00m,\n\u001b[0;32m     <a href='vscode-notebook-cell:/c%3A/dev/repos/data_science_notebooks/torch_tut/cifar_classifier.ipynb#W2sZmlsZQ%3D%3D?line=10'>11</a>\u001b[0m     download\u001b[39m=\u001b[39m\u001b[39mTrue\u001b[39;00m, \n\u001b[0;32m     <a href='vscode-notebook-cell:/c%3A/dev/repos/data_science_notebooks/torch_tut/cifar_classifier.ipynb#W2sZmlsZQ%3D%3D?line=11'>12</a>\u001b[0m     transform\u001b[39m=\u001b[39mtransform\n\u001b[0;32m     <a href='vscode-notebook-cell:/c%3A/dev/repos/data_science_notebooks/torch_tut/cifar_classifier.ipynb#W2sZmlsZQ%3D%3D?line=12'>13</a>\u001b[0m )\n",
      "\u001b[1;31mNameError\u001b[0m: name 'transforms' is not defined"
     ]
    }
   ],
   "source": [
    "transform = transforms.Compose([\n",
    "    transforms.ToTensor(),\n",
    "    transforms.Normalize((0.5, 0.5, 0.5), (0.5, 0.5, 0.5))\n",
    "])\n",
    "\n",
    "batch_size = 4\n",
    "\n",
    "trainset = torchvision.datasets.CIFAR10(\n",
    "    root='./data', \n",
    "    train=True,\n",
    "    download=True, \n",
    "    transform=transform\n",
    ")\n",
    "\n",
    "trainloader = torch.utils.data.DataLoader(\n",
    "    trainset, \n",
    "    batch_size=batch_size, \n",
    "    shuffle=True, \n",
    "    num_workers=2\n",
    ")\n",
    "\n",
    "testset = torchvision.datasets.CIFAR10(\n",
    "    root='./data', \n",
    "    train=False,\n",
    "    download=True, \n",
    "    transform=transform\n",
    ")\n",
    "\n",
    "testloader = torch.utils.data.DataLoader(\n",
    "    testset, \n",
    "    batch_size=batch_size,\n",
    "    shuffle=False, \n",
    "    num_workers=2\n",
    ")\n",
    "\n",
    "classes = ('plane', 'car', 'bird', 'cat', 'deer', 'dog', 'frog', 'horse', 'ship', 'truck')"
   ]
  },
  {
   "cell_type": "code",
   "execution_count": 3,
   "metadata": {},
   "outputs": [
    {
     "ename": "",
     "evalue": "",
     "output_type": "error",
     "traceback": [
      "\u001b[1;31mCanceled future for execute_request message before replies were done"
     ]
    },
    {
     "ename": "",
     "evalue": "",
     "output_type": "error",
     "traceback": [
      "The Kernel crashed while executing code in the the current cell or a previous cell. Please review the code in the cell(s) to identify a possible cause of the failure. Click <a href='https://aka.ms/vscodeJupyterKernelCrash'>here</a> for more info. View Jupyter <a href='command:jupyter.viewOutput'>log</a> for further details."
     ]
    }
   ],
   "source": [
    "import matplotlib.pyplot as plt\n",
    "import numpy as np\n",
    "\n",
    "# functions to show an image\n",
    "\n",
    "\n",
    "def imshow(img):\n",
    "    img = img / 2 + 0.5     # unnormalize\n",
    "    npimg = img.numpy()\n",
    "    plt.imshow(np.transpose(npimg, (1, 2, 0)))\n",
    "    plt.show()\n",
    "\n",
    "\n",
    "# get some random training images\n",
    "dataiter = iter(trainloader)\n",
    "images, labels = dataiter.next()\n",
    "\n",
    "# show images\n",
    "imshow(torchvision.utils.make_grid(images))\n",
    "# print labels\n",
    "print(' '.join(f'{classes[labels[j]]:5s}' for j in range(batch_size)))"
   ]
  },
  {
   "cell_type": "code",
   "execution_count": null,
   "metadata": {},
   "outputs": [],
   "source": [
    "### Define the Model"
   ]
  },
  {
   "cell_type": "code",
   "execution_count": null,
   "metadata": {},
   "outputs": [],
   "source": [
    "import torch.nn as nn\n",
    "import torch.nn.functional as F\n",
    "\n",
    "\n",
    "class Net(nn.Module):\n",
    "    def __init__(self):\n",
    "        super().__init__()\n",
    "        self.conv1 = nn.Conv2d(3, 6, 5)\n",
    "        self.pool = nn.MaxPool2d(2, 2)\n",
    "        self.conv2 = nn.Conv2d(6, 16, 5)\n",
    "        self.fc1 = nn.Linear(16 * 5 * 5, 120)\n",
    "        self.fc2 = nn.Linear(120, 84)\n",
    "        self.fc3 = nn.Linear(84, 10)\n",
    "\n",
    "    def forward(self, x):\n",
    "        x = self.pool(F.relu(self.conv1(x)))\n",
    "        x = self.pool(F.relu(self.conv2(x)))\n",
    "        x = torch.flatten(x, 1) # flatten all dimensions except batch\n",
    "        x = F.relu(self.fc1(x))\n",
    "        x = F.relu(self.fc2(x))\n",
    "        x = self.fc3(x)\n",
    "        return x\n",
    "\n",
    "\n",
    "net = Net()"
   ]
  },
  {
   "cell_type": "markdown",
   "metadata": {},
   "source": [
    "### Loss Function and Optimizer"
   ]
  },
  {
   "cell_type": "code",
   "execution_count": null,
   "metadata": {},
   "outputs": [],
   "source": [
    "import torch.optim as optim\n",
    "\n",
    "criterion = nn.CrossEntropyLoss()\n",
    "optimizer = optim.SGD(net.parameters(), lr=0.001, momentum=0.9)"
   ]
  },
  {
   "cell_type": "markdown",
   "metadata": {},
   "source": [
    "### 4. Train the network"
   ]
  },
  {
   "cell_type": "code",
   "execution_count": null,
   "metadata": {},
   "outputs": [
    {
     "name": "stdout",
     "output_type": "stream",
     "text": [
      "[1,  2000] loss: 1.203\n",
      "[1,  4000] loss: 1.211\n",
      "[1,  6000] loss: 1.212\n",
      "[1,  8000] loss: 1.190\n",
      "[1, 10000] loss: 1.147\n",
      "[1, 12000] loss: 1.181\n",
      "[2,  2000] loss: 1.084\n",
      "[2,  4000] loss: 1.093\n",
      "[2,  6000] loss: 1.118\n",
      "[2,  8000] loss: 1.120\n",
      "[2, 10000] loss: 1.081\n",
      "[2, 12000] loss: 1.111\n",
      "[3,  2000] loss: 1.030\n",
      "[3,  4000] loss: 1.032\n",
      "[3,  6000] loss: 1.021\n",
      "[3,  8000] loss: 1.034\n",
      "[3, 10000] loss: 1.036\n",
      "[3, 12000] loss: 1.043\n",
      "[4,  2000] loss: 0.960\n",
      "[4,  4000] loss: 0.957\n",
      "[4,  6000] loss: 0.998\n",
      "[4,  8000] loss: 0.992\n",
      "[4, 10000] loss: 1.001\n",
      "[4, 12000] loss: 0.984\n",
      "[5,  2000] loss: 0.922\n",
      "[5,  4000] loss: 0.918\n",
      "[5,  6000] loss: 0.929\n",
      "[5,  8000] loss: 0.935\n",
      "[5, 10000] loss: 0.948\n",
      "[5, 12000] loss: 0.960\n",
      "[6,  2000] loss: 0.868\n",
      "[6,  4000] loss: 0.883\n",
      "[6,  6000] loss: 0.906\n",
      "[6,  8000] loss: 0.901\n",
      "[6, 10000] loss: 0.901\n",
      "[6, 12000] loss: 0.912\n",
      "[7,  2000] loss: 0.807\n",
      "[7,  4000] loss: 0.831\n",
      "[7,  6000] loss: 0.873\n",
      "[7,  8000] loss: 0.878\n",
      "[7, 10000] loss: 0.901\n",
      "[7, 12000] loss: 0.877\n",
      "[8,  2000] loss: 0.778\n",
      "[8,  4000] loss: 0.824\n",
      "[8,  6000] loss: 0.847\n",
      "[8,  8000] loss: 0.840\n",
      "[8, 10000] loss: 0.847\n",
      "[8, 12000] loss: 0.849\n",
      "[9,  2000] loss: 0.745\n",
      "[9,  4000] loss: 0.792\n",
      "[9,  6000] loss: 0.801\n",
      "[9,  8000] loss: 0.809\n",
      "[9, 10000] loss: 0.844\n",
      "[9, 12000] loss: 0.839\n",
      "[10,  2000] loss: 0.731\n",
      "[10,  4000] loss: 0.755\n",
      "[10,  6000] loss: 0.758\n",
      "[10,  8000] loss: 0.794\n",
      "[10, 10000] loss: 0.833\n",
      "[10, 12000] loss: 0.840\n",
      "Finished Training\n"
     ]
    }
   ],
   "source": [
    "for epoch in range(10):  # loop over the dataset multiple times\n",
    "\n",
    "    running_loss = 0.0\n",
    "    for i, data in enumerate(trainloader, 0):\n",
    "        # get the inputs; data is a list of [inputs, labels]\n",
    "        inputs, labels = data\n",
    "\n",
    "        # zero the parameter gradients\n",
    "        optimizer.zero_grad()\n",
    "\n",
    "        # forward + backward + optimize\n",
    "        outputs = net(inputs)\n",
    "        loss = criterion(outputs, labels)\n",
    "        loss.backward()\n",
    "        optimizer.step()\n",
    "\n",
    "        # print statistics\n",
    "        running_loss += loss.item()\n",
    "        if i % 2000 == 1999:    # print every 2000 mini-batches\n",
    "            print(f'[{epoch + 1}, {i + 1:5d}] loss: {running_loss / 2000:.3f}')\n",
    "            running_loss = 0.0\n",
    "\n",
    "print('Finished Training')"
   ]
  },
  {
   "cell_type": "code",
   "execution_count": null,
   "metadata": {},
   "outputs": [],
   "source": []
  }
 ],
 "metadata": {
  "kernelspec": {
   "display_name": "Python 3.9.12 ('ds_playground')",
   "language": "python",
   "name": "python3"
  },
  "language_info": {
   "codemirror_mode": {
    "name": "ipython",
    "version": 3
   },
   "file_extension": ".py",
   "mimetype": "text/x-python",
   "name": "python",
   "nbconvert_exporter": "python",
   "pygments_lexer": "ipython3",
   "version": "3.9.12"
  },
  "orig_nbformat": 4,
  "vscode": {
   "interpreter": {
    "hash": "d845f5b0be500222e5d53fada065b2015f5ea82069a76c414233f9d151c63ec6"
   }
  }
 },
 "nbformat": 4,
 "nbformat_minor": 2
}
